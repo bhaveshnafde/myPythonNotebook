{
 "cells": [
  {
   "cell_type": "markdown",
   "metadata": {},
   "source": [
    "## constructor"
   ]
  },
  {
   "cell_type": "code",
   "execution_count": 10,
   "metadata": {},
   "outputs": [
    {
     "name": "stdout",
     "output_type": "stream",
     "text": [
      "10\n",
      "10\n"
     ]
    }
   ],
   "source": [
    "class Example:\n",
    "    def __init__(self,num):\n",
    "        self.num=num\n",
    "\n",
    "    def set_num(self,num):\n",
    "        num=num\n",
    "\n",
    "    def get_num(self):\n",
    "        return self.num\n",
    "obj=Example(10)\n",
    "print(obj.get_num())\n",
    "obj.set_num(15)\n",
    "print(obj.get_num())"
   ]
  },
  {
   "cell_type": "code",
   "execution_count": 11,
   "metadata": {},
   "outputs": [
    {
     "ename": "AttributeError",
     "evalue": "'Customer' object has no attribute 'cust_id'",
     "output_type": "error",
     "traceback": [
      "\u001b[1;31m---------------------------------------------------------------------------\u001b[0m",
      "\u001b[1;31mAttributeError\u001b[0m                            Traceback (most recent call last)",
      "\u001b[1;32m<ipython-input-11-8c518daca554>\u001b[0m in \u001b[0;36m<module>\u001b[1;34m\u001b[0m\n\u001b[0;32m      4\u001b[0m \u001b[1;33m\u001b[0m\u001b[0m\n\u001b[0;32m      5\u001b[0m \u001b[0mc1\u001b[0m\u001b[1;33m=\u001b[0m\u001b[0mCustomer\u001b[0m\u001b[1;33m(\u001b[0m\u001b[1;33m)\u001b[0m\u001b[1;33m\u001b[0m\u001b[1;33m\u001b[0m\u001b[0m\n\u001b[1;32m----> 6\u001b[1;33m \u001b[0mprint\u001b[0m\u001b[1;33m(\u001b[0m\u001b[0mc1\u001b[0m\u001b[1;33m.\u001b[0m\u001b[0mcust_id\u001b[0m\u001b[1;33m)\u001b[0m\u001b[1;33m\u001b[0m\u001b[1;33m\u001b[0m\u001b[0m\n\u001b[0m",
      "\u001b[1;31mAttributeError\u001b[0m: 'Customer' object has no attribute 'cust_id'"
     ]
    }
   ],
   "source": [
    "class Customer:\n",
    "    def __init__(self):\n",
    "        cust_id = 100\n",
    "\n",
    "c1=Customer()\n",
    "print(c1.cust_id)"
   ]
  },
  {
   "cell_type": "code",
   "execution_count": 12,
   "metadata": {},
   "outputs": [
    {
     "name": "stdout",
     "output_type": "stream",
     "text": [
      "100\n"
     ]
    }
   ],
   "source": [
    "class Customer:\n",
    "    def __init__(self):\n",
    "        self.id = 100\n",
    "\n",
    "c1=Customer()\n",
    "print(c1.id)"
   ]
  },
  {
   "cell_type": "code",
   "execution_count": 13,
   "metadata": {},
   "outputs": [
    {
     "ename": "AttributeError",
     "evalue": "'Customer' object has no attribute 'id'",
     "output_type": "error",
     "traceback": [
      "\u001b[1;31m---------------------------------------------------------------------------\u001b[0m",
      "\u001b[1;31mAttributeError\u001b[0m                            Traceback (most recent call last)",
      "\u001b[1;32m<ipython-input-13-6333aa9586af>\u001b[0m in \u001b[0;36m<module>\u001b[1;34m\u001b[0m\n\u001b[0;32m      4\u001b[0m \u001b[1;33m\u001b[0m\u001b[0m\n\u001b[0;32m      5\u001b[0m \u001b[0mc1\u001b[0m\u001b[1;33m=\u001b[0m\u001b[0mCustomer\u001b[0m\u001b[1;33m(\u001b[0m\u001b[1;36m200\u001b[0m\u001b[1;33m)\u001b[0m\u001b[1;33m\u001b[0m\u001b[1;33m\u001b[0m\u001b[0m\n\u001b[1;32m----> 6\u001b[1;33m \u001b[0mprint\u001b[0m\u001b[1;33m(\u001b[0m\u001b[0mc1\u001b[0m\u001b[1;33m.\u001b[0m\u001b[0mid\u001b[0m\u001b[1;33m)\u001b[0m\u001b[1;33m\u001b[0m\u001b[1;33m\u001b[0m\u001b[0m\n\u001b[0m",
      "\u001b[1;31mAttributeError\u001b[0m: 'Customer' object has no attribute 'id'"
     ]
    }
   ],
   "source": [
    "class Customer:\n",
    "    def __init__(self,id):\n",
    "        id = 100\n",
    "\n",
    "c1=Customer(200)\n",
    "print(c1.id)"
   ]
  },
  {
   "cell_type": "code",
   "execution_count": 14,
   "metadata": {},
   "outputs": [
    {
     "ename": "AttributeError",
     "evalue": "'Customer' object has no attribute 'id1'",
     "output_type": "error",
     "traceback": [
      "\u001b[1;31m---------------------------------------------------------------------------\u001b[0m",
      "\u001b[1;31mAttributeError\u001b[0m                            Traceback (most recent call last)",
      "\u001b[1;32m<ipython-input-14-36a8f1d1ab59>\u001b[0m in \u001b[0;36m<module>\u001b[1;34m\u001b[0m\n\u001b[0;32m      4\u001b[0m \u001b[1;33m\u001b[0m\u001b[0m\n\u001b[0;32m      5\u001b[0m \u001b[0mc1\u001b[0m\u001b[1;33m=\u001b[0m\u001b[0mCustomer\u001b[0m\u001b[1;33m(\u001b[0m\u001b[1;36m200\u001b[0m\u001b[1;33m)\u001b[0m\u001b[1;33m\u001b[0m\u001b[1;33m\u001b[0m\u001b[0m\n\u001b[1;32m----> 6\u001b[1;33m \u001b[0mprint\u001b[0m\u001b[1;33m(\u001b[0m\u001b[0mc1\u001b[0m\u001b[1;33m.\u001b[0m\u001b[0mid1\u001b[0m\u001b[1;33m)\u001b[0m\u001b[1;33m\u001b[0m\u001b[1;33m\u001b[0m\u001b[0m\n\u001b[0m",
      "\u001b[1;31mAttributeError\u001b[0m: 'Customer' object has no attribute 'id1'"
     ]
    }
   ],
   "source": [
    "class Customer:\n",
    "    def __init__(self,id1):\n",
    "        self.id = id1\n",
    "\n",
    "c1=Customer(200)\n",
    "print(c1.id1)"
   ]
  },
  {
   "cell_type": "code",
   "execution_count": 15,
   "metadata": {},
   "outputs": [
    {
     "name": "stdout",
     "output_type": "stream",
     "text": [
      "200\n"
     ]
    }
   ],
   "source": [
    "class Customer:\n",
    "    def __init__(self,id1):\n",
    "        self.id = id1\n",
    "\n",
    "c1=Customer(200)\n",
    "print(c1.id)"
   ]
  },
  {
   "cell_type": "code",
   "execution_count": 16,
   "metadata": {},
   "outputs": [
    {
     "name": "stdout",
     "output_type": "stream",
     "text": [
      "My favorite is Learning Python\n",
      "Your's is Learn Python the hard way\n"
     ]
    }
   ],
   "source": [
    "class Book:\n",
    "    def __init__(self):\n",
    "        self.title=None\n",
    "\n",
    "\n",
    "my_fav=Book()\n",
    "my_fav.title=\"Head First Programming\"\n",
    "your_fav=Book()\n",
    "your_fav.title=\"Learn Python the hard way\"\n",
    "my_fav.title=\"Learning Python\"\n",
    "print(\"My favorite is\",my_fav.title)\n",
    "print(\"Your's is\",your_fav.title)"
   ]
  },
  {
   "cell_type": "code",
   "execution_count": 17,
   "metadata": {},
   "outputs": [
    {
     "name": "stdout",
     "output_type": "stream",
     "text": [
      "Displaying details\n",
      "Calculating price\n"
     ]
    }
   ],
   "source": [
    "class Mobile:\n",
    "    def display(self):\n",
    "        print(\"Displaying details\")\n",
    "\n",
    "    def purchase(self):\n",
    "        self.display()\n",
    "        print(\"Calculating price\")\n",
    "\n",
    "Mobile().purchase()"
   ]
  },
  {
   "cell_type": "markdown",
   "metadata": {},
   "source": [
    "\n",
    "    Reference variables hold the objects\n",
    "    An object can have multiple reference variables\n",
    "    Assigning a new reference variable to an existing object does not create a new object\n",
    "    We can create objects without reference variable as well\n",
    "    Class diagrams represent the class with its attributes and behaviour\n"
   ]
  },
  {
   "cell_type": "markdown",
   "metadata": {},
   "source": [
    "## private attributes"
   ]
  },
  {
   "cell_type": "code",
   "execution_count": 19,
   "metadata": {},
   "outputs": [
    {
     "ename": "AttributeError",
     "evalue": "'Customer' object has no attribute '__wallet_balance'",
     "output_type": "error",
     "traceback": [
      "\u001b[1;31m---------------------------------------------------------------------------\u001b[0m",
      "\u001b[1;31mAttributeError\u001b[0m                            Traceback (most recent call last)",
      "\u001b[1;32m<ipython-input-19-a8900446d052>\u001b[0m in \u001b[0;36m<module>\u001b[1;34m\u001b[0m\n\u001b[0;32m     15\u001b[0m \u001b[1;33m\u001b[0m\u001b[0m\n\u001b[0;32m     16\u001b[0m \u001b[0mc1\u001b[0m\u001b[1;33m=\u001b[0m\u001b[0mCustomer\u001b[0m\u001b[1;33m(\u001b[0m\u001b[1;36m100\u001b[0m\u001b[1;33m,\u001b[0m \u001b[1;34m\"Gopal\"\u001b[0m\u001b[1;33m,\u001b[0m \u001b[1;36m24\u001b[0m\u001b[1;33m,\u001b[0m \u001b[1;36m1000\u001b[0m\u001b[1;33m)\u001b[0m\u001b[1;33m\u001b[0m\u001b[1;33m\u001b[0m\u001b[0m\n\u001b[1;32m---> 17\u001b[1;33m \u001b[0mprint\u001b[0m\u001b[1;33m(\u001b[0m\u001b[0mc1\u001b[0m\u001b[1;33m.\u001b[0m\u001b[0m__wallet_balance\u001b[0m\u001b[1;33m)\u001b[0m\u001b[1;33m\u001b[0m\u001b[1;33m\u001b[0m\u001b[0m\n\u001b[0m",
      "\u001b[1;31mAttributeError\u001b[0m: 'Customer' object has no attribute '__wallet_balance'"
     ]
    }
   ],
   "source": [
    "# adding __ before an attribute makes it pvt\n",
    "class Customer:\n",
    "    def __init__(self, cust_id, name, age, wallet_balance):\n",
    "        self.cust_id = cust_id\n",
    "        self.name = name\n",
    "        self.age = age\n",
    "        self.__wallet_balance = wallet_balance\n",
    "\n",
    "    def update_balance(self, amount):\n",
    "        if amount < 1000 and amount > 0:\n",
    "            self.__wallet_balance += amount\n",
    "\n",
    "    def show_balance(self):\n",
    "        print (\"The balance is \",self.__wallet_balance)\n",
    "\n",
    "c1=Customer(100, \"Gopal\", 24, 1000)\n",
    "print(c1.__wallet_balance)"
   ]
  },
  {
   "cell_type": "code",
   "execution_count": 21,
   "metadata": {},
   "outputs": [
    {
     "name": "stdout",
     "output_type": "stream",
     "text": [
      "The balance is  1000\n"
     ]
    }
   ],
   "source": [
    "class Customer:\n",
    "    def __init__(self, cust_id, name, age, wallet_balance):\n",
    "        self.cust_id = cust_id\n",
    "        self.name = name\n",
    "        self.age = age\n",
    "        self.__wallet_balance = wallet_balance\n",
    "\n",
    "    def update_balance(self, amount):\n",
    "        if amount < 1000 and amount > 0:\n",
    "            self.__wallet_balance += amount\n",
    "\n",
    "    def show_balance(self):\n",
    "        print (\"The balance is \",self.__wallet_balance)\n",
    "\n",
    "c1=Customer(100, \"Gopal\", 24, 1000)\n",
    "c1.__wallet_balance = 10000000000\n",
    "c1.show_balance()"
   ]
  },
  {
   "cell_type": "code",
   "execution_count": 22,
   "metadata": {},
   "outputs": [
    {
     "name": "stdout",
     "output_type": "stream",
     "text": [
      "The balance is  10000000000\n"
     ]
    }
   ],
   "source": [
    "class Customer:\n",
    "    def __init__(self, cust_id, name, age, wallet_balance):\n",
    "        self.cust_id = cust_id\n",
    "        self.name = name\n",
    "        self.age = age\n",
    "        self.__wallet_balance = wallet_balance\n",
    "\n",
    "    def update_balance(self, amount):\n",
    "        if amount < 1000 and amount > 0:\n",
    "            self.__wallet_balance += amount\n",
    "\n",
    "    def show_balance(self):\n",
    "        print (\"The balance is \",self.__wallet_balance)\n",
    "\n",
    "c1=Customer(100, \"Gopal\", 24, 1000)\n",
    "c1._Customer__wallet_balance = 10000000000\n",
    "c1.show_balance()"
   ]
  },
  {
   "cell_type": "code",
   "execution_count": 23,
   "metadata": {},
   "outputs": [
    {
     "name": "stdout",
     "output_type": "stream",
     "text": [
      "120\n"
     ]
    }
   ],
   "source": [
    "#getter setter\n",
    "class Customer:\n",
    "    def __init__(self, id, name, age, wallet_balance):\n",
    "        self.id = id\n",
    "        self.name = name\n",
    "        self.age = age\n",
    "        self.__wallet_balance = wallet_balance\n",
    "\n",
    "    def set_wallet_balance(self, amount):\n",
    "        if amount < 1000 and amount>  0:\n",
    "            self.__wallet_balance = amount\n",
    "\n",
    "    def get_wallet_balance(self):\n",
    "        return self.__wallet_balance\n",
    "\n",
    "c1=Customer(100, \"Gopal\", 24, 1000)\n",
    "c1.set_wallet_balance(120)\n",
    "print(c1.get_wallet_balance())"
   ]
  },
  {
   "cell_type": "code",
   "execution_count": 27,
   "metadata": {},
   "outputs": [
    {
     "name": "stdout",
     "output_type": "stream",
     "text": [
      "6\n"
     ]
    }
   ],
   "source": [
    "class Example:\n",
    "    def __init__(self):\n",
    "        self.__num=5\n",
    "\n",
    "    def set_num(self,num):\n",
    "        self.__num=num\n",
    "\n",
    "    def get_num(self):\n",
    "        return self.__num\n",
    "obj=Example()\n",
    "obj.set_num(6)\n",
    "print(obj.get_num())"
   ]
  },
  {
   "cell_type": "code",
   "execution_count": 28,
   "metadata": {},
   "outputs": [
    {
     "name": "stdout",
     "output_type": "stream",
     "text": [
      "5\n"
     ]
    }
   ],
   "source": [
    "class Example:\n",
    "    def __init__(self):\n",
    "        self.__num=None\n",
    "\n",
    "    def set_num(self,num):\n",
    "        self.__num=num\n",
    "\n",
    "    def change_num(self):\n",
    "        self.__num=5\n",
    "        return self.__num\n",
    "obj=Example()\n",
    "obj.set_num(10)\n",
    "print(obj.change_num())"
   ]
  },
  {
   "cell_type": "code",
   "execution_count": 31,
   "metadata": {},
   "outputs": [
    {
     "name": "stdout",
     "output_type": "stream",
     "text": [
      "Dam name: ABC dam\n",
      "Dam length: 3.5\n"
     ]
    }
   ],
   "source": [
    "class Dam:\n",
    "    def __init__(self,name, length):\n",
    "        self.name=name\n",
    "        self.__length=length\n",
    "    def get_length(self):\n",
    "        return self.__length\n",
    "\n",
    "dam1=Dam(\"ABC dam\",3.5 )\n",
    "print(\"Dam name:\",dam1.name)\n",
    "print(\"Dam length:\", dam1.get_length())"
   ]
  },
  {
   "cell_type": "code",
   "execution_count": 32,
   "metadata": {},
   "outputs": [
    {
     "name": "stdout",
     "output_type": "stream",
     "text": [
      "20000\n"
     ]
    }
   ],
   "source": [
    "class Table:\n",
    "    def __init__(self):\n",
    "        self.no_of_legs=4\n",
    "        self.__glass_top=None\n",
    "        self.__wooden_top=None\n",
    "\n",
    "    def assign_data(self,glass_top,wooden_top):\n",
    "        self.__glass_top=glass_top\n",
    "        self.__wooden_top=wooden_top\n",
    "\n",
    "    def identify_rate(self,glass_top,wooden_top):\n",
    "        self.assign_data(glass_top, wooden_top)\n",
    "        if(self.__glass_top==True):\n",
    "            rate=20000\n",
    "        elif(self.__wooden_top==True):\n",
    "            rate=30000\n",
    "        else:\n",
    "            rate=0\n",
    "        return rate\n",
    "dining_table=Table()\n",
    "rate=dining_table.identify_rate(True, False)\n",
    "print(rate)"
   ]
  },
  {
   "cell_type": "code",
   "execution_count": 1,
   "metadata": {},
   "outputs": [
    {
     "name": "stdout",
     "output_type": "stream",
     "text": [
      "Inside constructor\n",
      "Id of object referred by mob1 reference variable is : 2759372325832\n",
      "Id of object referred by mob2 reference variable is : 2759372325832\n"
     ]
    }
   ],
   "source": [
    "class Mobile:\n",
    "    def __init__(self, price, brand):\n",
    "        print (\"Inside constructor\")\n",
    "        self.price = price\n",
    "        self.brand = brand\n",
    "\n",
    "mob1=Mobile(1000, \"Apple\")\n",
    "mob2=mob1\n",
    "print (\"Id of object referred by mob1 reference variable is :\", id(mob1))\n",
    "print (\"Id of object referred by mob2 reference variable is :\", id(mob2))\n",
    "#mob1 and mob2 are reference variables to the same object"
   ]
  },
  {
   "cell_type": "code",
   "execution_count": 2,
   "metadata": {},
   "outputs": [
    {
     "name": "stdout",
     "output_type": "stream",
     "text": [
      "Price of mobile 1 : 1000\n",
      "Price of mobile 1 : 3000\n",
      "Price of mobile 2 : 3000\n"
     ]
    }
   ],
   "source": [
    "class Mobile:\n",
    "    def __init__(self, price, brand):\n",
    "        self.price = price\n",
    "        self.brand = brand\n",
    "\n",
    "mob1=Mobile(1000, \"Apple\")\n",
    "print(\"Price of mobile 1 :\", mob1.price)\n",
    "\n",
    "mob2=mob1\n",
    "mob2.price=3000\n",
    "\n",
    "print(\"Price of mobile 1 :\", mob1.price)\n",
    "print(\"Price of mobile 2 :\", mob2.price)"
   ]
  },
  {
   "cell_type": "code",
   "execution_count": 3,
   "metadata": {},
   "outputs": [
    {
     "name": "stdout",
     "output_type": "stream",
     "text": [
      "Mobile Id Price\n",
      "mob1 2759372327736 1000\n",
      "mob2 2759372328016 3000\n"
     ]
    }
   ],
   "source": [
    "class Mobile:\n",
    "    def __init__(self, price, brand):\n",
    "        self.price = price\n",
    "        self.brand = brand\n",
    "\n",
    "mob1=Mobile(1000, \"Apple\")\n",
    "\n",
    "mob2=mob1\n",
    "mob2=Mobile(2000, \"Samsung\")\n",
    "mob2.price=3000\n",
    "\n",
    "print(\"Mobile\", \"Id\",\"Price\")\n",
    "print(\"mob1\", id(mob1), mob1.price)\n",
    "print(\"mob2\", id(mob2), mob2.price)"
   ]
  },
  {
   "cell_type": "code",
   "execution_count": 4,
   "metadata": {},
   "outputs": [
    {
     "name": "stdout",
     "output_type": "stream",
     "text": [
      "3000\n"
     ]
    }
   ],
   "source": [
    "class Mobile:\n",
    "    def __init__(self, price, brand):\n",
    "        self.price = price\n",
    "        self.brand = brand\n",
    "\n",
    "def change_price(mobile_obj):\n",
    "    mobile_obj.price = 3000\n",
    "\n",
    "mob1=Mobile(1000, \"Apple\")\n",
    "change_price(mob1)\n",
    "print (mob1.price)"
   ]
  },
  {
   "cell_type": "code",
   "execution_count": 5,
   "metadata": {},
   "outputs": [
    {
     "name": "stdout",
     "output_type": "stream",
     "text": [
      "Id of object in driver code 2759372327288\n",
      "Id of object inside function 2759372327288\n",
      "Price of mob1  3000\n"
     ]
    }
   ],
   "source": [
    "class Mobile:\n",
    "    def __init__(self, price, brand):\n",
    "        self.price = price\n",
    "        self.brand = brand\n",
    "\n",
    "    def change_price(mobile_obj):\n",
    "        print (\"Id of object inside function\", id(mobile_obj))\n",
    "        mobile_obj.price=3000\n",
    "\n",
    "mob1=Mobile(1000, \"Apple\")\n",
    "print (\"Id of object in driver code\", id(mob1))\n",
    "\n",
    "mob1.change_price()\n",
    "print (\"Price of mob1 \", mob1.price)"
   ]
  },
  {
   "cell_type": "code",
   "execution_count": 6,
   "metadata": {},
   "outputs": [
    {
     "name": "stdout",
     "output_type": "stream",
     "text": [
      "List and its id before method call [100, 200, 300] 2759372160136\n",
      "Id of list received in method 2759372160136\n",
      "Id of list after element modification in method 2759372160136\n",
      "List and its id after method call  [100, 500, 300] 2759372160136\n"
     ]
    }
   ],
   "source": [
    "def change_function(data):\n",
    "    print (\"Id of list received in method\", id(data))\n",
    "    data[1] = 500\n",
    "    print (\"Id of list after element modification in method\", id(data))\n",
    "\n",
    "value = [100, 200, 300]\n",
    "print (\"List and its id before method call\", value, id(value))\n",
    "change_function(value)\n",
    "print (\"List and its id after method call \", value, id(value))"
   ]
  },
  {
   "cell_type": "code",
   "execution_count": 7,
   "metadata": {},
   "outputs": [
    {
     "name": "stdout",
     "output_type": "stream",
     "text": [
      "List and its id before method call [100, 200, 300] 2759372130504\n",
      "Id of list received in method 2759372130504\n",
      "Id of list after list assignment in method 2759372160136\n",
      "List and its id after method call  [100, 200, 300] 2759372130504\n"
     ]
    }
   ],
   "source": [
    "def change_function(data):\n",
    "    print (\"Id of list received in method\", id(data))\n",
    "    data = [200, 300, 400]\n",
    "    print (\"Id of list after list assignment in method\", id(data))\n",
    "\n",
    "value = [100, 200, 300]\n",
    "print (\"List and its id before method call\", value, id(value))\n",
    "change_function(value)\n",
    "print (\"List and its id after method call \", value, id(value))"
   ]
  },
  {
   "cell_type": "code",
   "execution_count": 8,
   "metadata": {},
   "outputs": [
    {
     "name": "stdout",
     "output_type": "stream",
     "text": [
      "List and its id before method call [100, 200, 300] 2759371504328\n",
      "Id of list received in method 2759371504328\n",
      "Id of list after list assignment in method 2759372130504\n",
      "List and its id after method call  [100, 200, 300] 2759371504328\n"
     ]
    }
   ],
   "source": [
    "def change_function(data):\n",
    "    print (\"Id of list received in method\", id(data))\n",
    "    data = [200, 300, 400]\n",
    "    print (\"Id of list after list assignment in method\", id(data))\n",
    "\n",
    "value = [100, 200, 300]\n",
    "print (\"List and its id before method call\", value, id(value))\n",
    "\n",
    "change_function(value)\n",
    "print (\"List and its id after method call \", value, id(value))"
   ]
  },
  {
   "cell_type": "code",
   "execution_count": 9,
   "metadata": {},
   "outputs": [
    {
     "name": "stdout",
     "output_type": "stream",
     "text": [
      "Object ID before modification  2759372071296\n",
      "Object ID after modification  2759372325976\n",
      "hello\n"
     ]
    }
   ],
   "source": [
    "def change(strng):\n",
    "    print(\"Object ID before modification \",id(strng))\n",
    "    strng=strng.upper()\n",
    "    print(\"Object ID after modification \",id(strng))\n",
    "\n",
    "s1=\"hello\"\n",
    "change(s1)\n",
    "print(s1)"
   ]
  },
  {
   "cell_type": "code",
   "execution_count": 10,
   "metadata": {},
   "outputs": [
    {
     "name": "stdout",
     "output_type": "stream",
     "text": [
      "Object ID before modification  2759372071296\n",
      "Object ID after modification  2759372325024\n",
      "hello\n"
     ]
    }
   ],
   "source": [
    "def change(strng):\n",
    "    print(\"Object ID before modification \",id(strng))\n",
    "    strng=strng.upper()\n",
    "    print(\"Object ID after modification \",id(strng))\n",
    "\n",
    "s1=\"hello\"\n",
    "change(s1)\n",
    "print(s1)"
   ]
  },
  {
   "cell_type": "code",
   "execution_count": 11,
   "metadata": {},
   "outputs": [
    {
     "name": "stdout",
     "output_type": "stream",
     "text": [
      "20\n"
     ]
    }
   ],
   "source": [
    "class Customer:\n",
    "    def __init__(self, cust_id, age):\n",
    "        self.cust_id = cust_id\n",
    "        self.age = age\n",
    "\n",
    "c1=Customer(100,20)\n",
    "\n",
    "def change(c2):\n",
    "    c2=Customer(100,21)\n",
    "\n",
    "change(c1)\n",
    "print(c1.age)"
   ]
  },
  {
   "cell_type": "code",
   "execution_count": 12,
   "metadata": {},
   "outputs": [
    {
     "name": "stdout",
     "output_type": "stream",
     "text": [
      "Id of self in constructor 2759372328632\n",
      "Id of mob1 in driver code 2759372328632\n",
      "Id of self in constructor 2759372327288\n",
      "Id of mob2 in driver code 2759372327288\n"
     ]
    }
   ],
   "source": [
    "class Mobile:\n",
    "    def __init__(self, price, brand):\n",
    "        print(\"Id of self in constructor\", id(self))\n",
    "        self.price = price\n",
    "        self.brand = brand\n",
    "\n",
    "mob1=Mobile(1000, \"Apple\")\n",
    "print(\"Id of mob1 in driver code\", id(mob1))\n",
    "\n",
    "mob2=Mobile(1000, \"Apple\")\n",
    "print(\"Id of mob2 in driver code\", id(mob2))"
   ]
  },
  {
   "cell_type": "code",
   "execution_count": 13,
   "metadata": {},
   "outputs": [
    {
     "name": "stdout",
     "output_type": "stream",
     "text": [
      "Id of self in constructor 2759372328296\n",
      "Id of mob1 in driver code 2759372328296\n",
      "Id of self in constructor 2759372328632\n",
      "Id of mob2 in driver code 2759372328632\n"
     ]
    }
   ],
   "source": [
    "class Mobile:\n",
    "    def __init__(self, price, brand):\n",
    "        print(\"Id of self in constructor\", id(self))\n",
    "        self.price = price\n",
    "        self.brand = brand\n",
    "\n",
    "mob1=Mobile(1000, \"Apple\")\n",
    "print(\"Id of mob1 in driver code\", id(mob1))\n",
    "\n",
    "mob2=Mobile(1000, \"Apple\")\n",
    "print(\"Id of mob2 in driver code\", id(mob2))"
   ]
  },
  {
   "cell_type": "code",
   "execution_count": 14,
   "metadata": {},
   "outputs": [
    {
     "name": "stdout",
     "output_type": "stream",
     "text": [
      "Inside the Mobile constructor\n",
      "None\n"
     ]
    }
   ],
   "source": [
    "class Mobile:\n",
    "    def __init__(self):\n",
    "        print (\"Inside the Mobile constructor\")\n",
    "        self.brand = None\n",
    "        brand = \"Apple\" #This is a local variable.\n",
    "        #Variables without self are local and they dont\n",
    "        #affect the attributes.\n",
    "\n",
    "        #Local varaibles cannot be accessed outside the init\n",
    "        #Using self creates attributes which are\n",
    "        #accessible in other methods as well\n",
    "\n",
    "mob1=Mobile()\n",
    "print(mob1.brand)#This does not print Apple\n",
    "#This prints None because brand=Apple creates\n",
    "#a local variable and it does not affect the attribute"
   ]
  },
  {
   "cell_type": "code",
   "execution_count": 15,
   "metadata": {},
   "outputs": [
    {
     "name": "stdout",
     "output_type": "stream",
     "text": [
      "Mobile created with id 2759372370608\n",
      "Mobile created with id 2759370297584\n",
      "Mobile being returned has id 2759370297584\n",
      "Brand being returned is  Samsung  and price is  2000\n"
     ]
    }
   ],
   "source": [
    "class Mobile:\n",
    "    def __init__(self,price,brand):\n",
    "        print (\"Mobile created with id\", id(self))\n",
    "        self.price = price\n",
    "        self.brand = brand\n",
    "\n",
    "    def return_product(self):\n",
    "        print (\"Mobile being returned has id\", id(self))\n",
    "        print (\"Brand being returned is \",self.brand,\" and price is \",self.price)\n",
    "\n",
    "mob1=Mobile(1000,\"Apple\")\n",
    "\n",
    "mob2=Mobile(2000,\"Samsung\")\n",
    "\n",
    "mob2.return_product()"
   ]
  },
  {
   "cell_type": "code",
   "execution_count": 16,
   "metadata": {},
   "outputs": [
    {
     "name": "stdout",
     "output_type": "stream",
     "text": [
      "2759372371672\n",
      "Mobile 1 has id 2759372371672\n",
      "2759372370608\n",
      "Mobile 2 has id 2759372370608\n",
      "2759372370608\n",
      "Brand being returned is  Samsung  and price is  2000\n",
      "2759372370608\n",
      "Brand being returned is  Samsung  and price is  2000\n"
     ]
    }
   ],
   "source": [
    "class Mobile:\n",
    "    def __init__(self,price,brand):\n",
    "        print (id(self))\n",
    "        self.price = price\n",
    "        self.brand = brand\n",
    "\n",
    "    def return_product(self):\n",
    "        print (id(self))\n",
    "        print (\"Brand being returned is \",self.brand,\" and price is \",self.price)\n",
    "\n",
    "mob1 = Mobile(1000, \"Apple\")\n",
    "print (\"Mobile 1 has id\", id(mob1))\n",
    "\n",
    "mob2=Mobile(2000, \"Samsung\")\n",
    "print (\"Mobile 2 has id\", id(mob2))\n",
    "\n",
    "mob2.return_product()\n",
    "Mobile.return_product(mob2)"
   ]
  },
  {
   "cell_type": "code",
   "execution_count": 17,
   "metadata": {},
   "outputs": [
    {
     "name": "stdout",
     "output_type": "stream",
     "text": [
      "100\n"
     ]
    }
   ],
   "source": [
    "class Customer:\n",
    "    def __init__(id,self,age):\n",
    "        id.self=self\n",
    "        id.age=age\n",
    "\n",
    "c1=Customer(100,20)\n",
    "print(c1.self)"
   ]
  },
  {
   "cell_type": "code",
   "execution_count": 18,
   "metadata": {},
   "outputs": [
    {
     "name": "stdout",
     "output_type": "stream",
     "text": [
      "Apple 1000\n",
      "Samsung 2000\n",
      "Apple 3000\n",
      "Samsung 4000\n",
      "Apple 5000\n"
     ]
    }
   ],
   "source": [
    "class Mobile:\n",
    "    def __init__(self, brand, price):\n",
    "        self.brand = brand\n",
    "        self.price = price\n",
    "\n",
    "mob1=Mobile(\"Apple\", 1000)\n",
    "mob2=Mobile(\"Samsung\", 2000)\n",
    "mob3=Mobile(\"Apple\", 3000)\n",
    "mob4=Mobile(\"Samsung\", 4000)\n",
    "mob5=Mobile(\"Apple\", 5000)\n",
    "\n",
    "list_of_mobiles=[mob1, mob2, mob3, mob4, mob5]\n",
    "\n",
    "for mobile in list_of_mobiles:\n",
    "    print (mobile.brand,mobile.price)"
   ]
  },
  {
   "cell_type": "code",
   "execution_count": 19,
   "metadata": {},
   "outputs": [
    {
     "name": "stdout",
     "output_type": "stream",
     "text": [
      "Apple 1000\n",
      "Samsung 2000\n",
      "Samsung 3000\n"
     ]
    }
   ],
   "source": [
    "class Mobile:\n",
    "    def __init__(self,brand,price):\n",
    "        self.brand = brand\n",
    "        self.price = price\n",
    "\n",
    "mob1=Mobile(\"Apple\", 1000)\n",
    "mob2=Mobile(\"Samsung\", 2000)\n",
    "mob3=Mobile(\"Apple\", 3000)\n",
    "\n",
    "\n",
    "list_of_mobiles=[mob1, mob2, mob3]\n",
    "\n",
    "mob3.brand=\"Samsung\"\n",
    "\n",
    "for mobile in list_of_mobiles:\n",
    "    print (mobile.brand, mobile.price)"
   ]
  },
  {
   "cell_type": "code",
   "execution_count": 20,
   "metadata": {},
   "outputs": [
    {
     "name": "stdout",
     "output_type": "stream",
     "text": [
      "Samsung 5000\n"
     ]
    }
   ],
   "source": [
    "class Mobile:\n",
    "    def __init__(self,brand,price):\n",
    "        self.brand = brand\n",
    "        self.price = price\n",
    "\n",
    "mob1=Mobile(\"Apple\", 1000)\n",
    "mob2=Mobile(\"Samsung\", 5000)\n",
    "mob3=Mobile(\"Apple\", 3000)\n",
    "\n",
    "mob_dict={\n",
    "          \"m1\":mob1,\n",
    "          \"m2\":mob2,\n",
    "          \"m3\":mob3\n",
    "          }\n",
    "\n",
    "for key,value in mob_dict.items():\n",
    "    if value.price > 3000:\n",
    "        print (value.brand,value.price)"
   ]
  },
  {
   "cell_type": "code",
   "execution_count": 21,
   "metadata": {},
   "outputs": [
    {
     "name": "stdout",
     "output_type": "stream",
     "text": [
      "Samsung 5000\n"
     ]
    }
   ],
   "source": [
    "class Mobile:\n",
    "    def __init__(self,brand,price):\n",
    "        self.brand = brand\n",
    "        self.price = price\n",
    "\n",
    "mob1=Mobile(\"Apple\", 1000)\n",
    "mob2=Mobile(\"Samsung\", 5000)\n",
    "mob3=Mobile(\"Apple\", 3000)\n",
    "\n",
    "mob_dict={\n",
    "          \"m1\":mob1,\n",
    "          \"m2\":mob2,\n",
    "          \"m3\":mob3\n",
    "          }\n",
    "\n",
    "for key,value in mob_dict.items():\n",
    "    if value.price > 3000:\n",
    "        print (value.brand,value.price)"
   ]
  },
  {
   "cell_type": "code",
   "execution_count": 22,
   "metadata": {},
   "outputs": [
    {
     "name": "stdout",
     "output_type": "stream",
     "text": [
      "Customer name in India is Kumar\n",
      "Location: US, Name: Mark, Id: 101\n",
      "Location: Japan, Name: Jane, Id: 102\n",
      "Location: India, Name: Kumar, Id: 103\n"
     ]
    }
   ],
   "source": [
    "class Customer:\n",
    "    def __init__(self, cust_id, cust_name, location):\n",
    "        self.cust_id = cust_id\n",
    "        self.cust_name = cust_name\n",
    "        self.location = location\n",
    "\n",
    "list_of_customers = [Customer(101, 'Mark', 'US'),\n",
    "                     Customer(102, 'Jane', 'Japan'),\n",
    "                     Customer(103, 'Kumar', 'India')]\n",
    "\n",
    "dict_of_customer = {}\n",
    "for customer in list_of_customers:\n",
    "    dict_of_customer[customer.location] = customer\n",
    "\n",
    "print (\"Customer name in India is \"+dict_of_customer[\"India\"].cust_name)\n",
    "\n",
    "for key,value in dict_of_customer.items():\n",
    "    print (\"Location: \"+key+\", Name: \"+value.cust_name+\", Id: \"+(str(value.cust_id)))"
   ]
  },
  {
   "cell_type": "markdown",
   "metadata": {},
   "source": [
    "## Static"
   ]
  },
  {
   "cell_type": "code",
   "execution_count": 23,
   "metadata": {},
   "outputs": [
    {
     "name": "stdout",
     "output_type": "stream",
     "text": [
      "Apple mobile with price 20000 is available after discount at 10000.0\n",
      "Apple mobile with price 30000 is available after discount at 15000.0\n"
     ]
    }
   ],
   "source": [
    "class Mobile:\n",
    "    def __init__(self, price, brand):\n",
    "        self.price = price\n",
    "        self.brand = brand\n",
    "        self.discount = 50\n",
    "\n",
    "    def purchase(self):\n",
    "        total = self.price - self.price * self.discount / 100\n",
    "        print (self.brand, \"mobile with price\", self.price, \"is available after discount at\", total)\n",
    "\n",
    "mob1=Mobile(20000, \"Apple\")\n",
    "mob2=Mobile(30000, \"Apple\")\n",
    "mob3=Mobile(5000, \"Samsung\")\n",
    "\n",
    "mob1.purchase()\n",
    "mob2.purchase()"
   ]
  },
  {
   "cell_type": "code",
   "execution_count": 24,
   "metadata": {},
   "outputs": [
    {
     "name": "stdout",
     "output_type": "stream",
     "text": [
      "Apple mobile with price 20000 is available after discount at 20000.0\n",
      "Apple mobile with price 30000 is available after discount at 15000.0\n",
      "Samsung mobile with price 5000 is available after discount at 2500.0\n",
      "Samsung mobile with price 6000 is available after discount at 6000.0\n"
     ]
    }
   ],
   "source": [
    "class Mobile:\n",
    "    def __init__(self, price, brand):\n",
    "        self.price = price\n",
    "        self.brand = brand\n",
    "        self.discount = 0\n",
    "\n",
    "    def purchase(self):\n",
    "        total = self.price - self.price * self.discount / 100\n",
    "        print (self.brand, \"mobile with price\", self.price, \"is available after discount at\", total)\n",
    "\n",
    "def enable_discount(list_of_mobiles):\n",
    "    for mobile in list_of_mobiles:\n",
    "        mobile.discount=50\n",
    "\n",
    "def disable_discount(list_of_mobiles):\n",
    "    for mobile in list_of_mobiles:\n",
    "        mobile.discount=0\n",
    "\n",
    "mob1=Mobile(20000, \"Apple\")\n",
    "mob2=Mobile(30000, \"Apple\")\n",
    "mob3=Mobile(5000, \"Samsung\")\n",
    "mob4=Mobile(6000, \"Samsung\")\n",
    "\n",
    "list_of_mobiles=[mob1,mob2,mob3,mob4]\n",
    "\n",
    "mob1.purchase()\n",
    "\n",
    "enable_discount(list_of_mobiles)\n",
    "\n",
    "mob2.purchase()\n",
    "mob3.purchase()\n",
    "\n",
    "disable_discount(list_of_mobiles)\n",
    "\n",
    "mob4.purchase()"
   ]
  },
  {
   "cell_type": "code",
   "execution_count": 25,
   "metadata": {},
   "outputs": [
    {
     "name": "stdout",
     "output_type": "stream",
     "text": [
      "Apple mobile with price 20000 is available after discount at 10000.0\n",
      "Apple mobile with price 30000 is available after discount at 15000.0\n",
      "Samsung mobile with price 5000 is available after discount at 2500.0\n"
     ]
    }
   ],
   "source": [
    "class Mobile:\n",
    "    discount = 50\n",
    "    def __init__(self, price, brand):\n",
    "        self.price = price\n",
    "        self.brand = brand\n",
    "\n",
    "    def purchase(self):\n",
    "        total = self.price - self.price * Mobile.discount / 100\n",
    "        print (self.brand, \"mobile with price\", self.price, \"is available after discount at\", total)\n",
    "\n",
    "mob1=Mobile(20000, \"Apple\")\n",
    "mob2=Mobile(30000, \"Apple\")\n",
    "mob3=Mobile(5000, \"Samsung\")\n",
    "\n",
    "mob1.purchase()\n",
    "mob2.purchase()\n",
    "mob3.purchase()"
   ]
  },
  {
   "cell_type": "code",
   "execution_count": 26,
   "metadata": {},
   "outputs": [
    {
     "name": "stdout",
     "output_type": "stream",
     "text": [
      "Apple mobile with price 20000 is available after discount at 10000.0\n",
      "Apple mobile with price 30000 is available after discount at 15000.0\n",
      "Samsung mobile with price 5000 is available after discount at 5000.0\n"
     ]
    }
   ],
   "source": [
    "class Mobile:\n",
    "    discount = 50\n",
    "    def __init__(self, price, brand):\n",
    "        self.price = price\n",
    "        self.brand = brand\n",
    "\n",
    "    def purchase(self):\n",
    "        total = self.price - self.price * Mobile.discount / 100\n",
    "        print (self.brand, \"mobile with price\", self.price, \"is available after discount at\", total)\n",
    "\n",
    "def enable_discount():\n",
    "    Mobile.discount = 50\n",
    "\n",
    "def disable_discount():\n",
    "    Mobile.discount = 0\n",
    "\n",
    "mob1=Mobile(20000, \"Apple\")\n",
    "mob2=Mobile(30000, \"Apple\")\n",
    "mob3=Mobile(5000, \"Samsung\")\n",
    "\n",
    "enable_discount()\n",
    "mob1.purchase()\n",
    "mob2.purchase()\n",
    "\n",
    "disable_discount()\n",
    "mob3.purchase()"
   ]
  },
  {
   "cell_type": "code",
   "execution_count": 27,
   "metadata": {},
   "outputs": [
    {
     "name": "stdout",
     "output_type": "stream",
     "text": [
      "50\n"
     ]
    }
   ],
   "source": [
    "class Mobile:\n",
    "    __discount = 50\n",
    "    def __init__(self, price, brand):\n",
    "        self.price = price\n",
    "        self.brand = brand\n",
    "\n",
    "    def purchase(self):\n",
    "        total = self.price - self.price * Mobile.__discount / 100\n",
    "        print (\"Total is \",total)\n",
    "\n",
    "    def get_discount(self):\n",
    "        return Mobile.__discount\n",
    "\n",
    "    def set_discount(self,discount):\n",
    "        Mobile.__discount = discount\n",
    "\n",
    "mob1=Mobile(20000, \"Apple\")\n",
    "mob2=Mobile(30000, \"Apple\")\n",
    "mob3=Mobile(5000, \"Samsung\")\n",
    "\n",
    "print (mob1.get_discount())"
   ]
  },
  {
   "cell_type": "code",
   "execution_count": 28,
   "metadata": {},
   "outputs": [],
   "source": [
    "@staticmethod\n",
    "def get_discount():\n",
    "    return Mobile.__discount\n",
    "@staticmethod\n",
    "def set_discount(discount):\n",
    "    Mobile.__discount=discount"
   ]
  },
  {
   "cell_type": "code",
   "execution_count": 29,
   "metadata": {},
   "outputs": [
    {
     "name": "stdout",
     "output_type": "stream",
     "text": [
      "50\n"
     ]
    }
   ],
   "source": [
    "class Mobile:\n",
    "    __discount = 50\n",
    "    def __init__(self, price, brand):\n",
    "        self.price = price\n",
    "        self.brand = brand\n",
    "\n",
    "    def purchase(self):\n",
    "        total = self.price - self.price * Mobile.__discount / 100\n",
    "        print (\"Total is \",total)\n",
    "\n",
    "    @staticmethod\n",
    "    def get_discount():\n",
    "        return Mobile.__discount\n",
    "\n",
    "    @staticmethod\n",
    "    def set_discount(discount):\n",
    "        Mobile.__discount = discount\n",
    "\n",
    "print (Mobile.get_discount())"
   ]
  },
  {
   "cell_type": "code",
   "execution_count": 30,
   "metadata": {},
   "outputs": [
    {
     "name": "stdout",
     "output_type": "stream",
     "text": [
      "Apple mobile with price 20000 is available after discount at 20000.0\n",
      "Apple mobile with price 30000 is available after discount at 15000.0\n",
      "Samsung mobile with price 5000 is available after discount at 5000.0\n"
     ]
    }
   ],
   "source": [
    "class Mobile:\n",
    "    __discount = 50\n",
    "    def __init__(self, price, brand):\n",
    "        self.price = price\n",
    "        self.brand = brand\n",
    "\n",
    "    def purchase(self):\n",
    "        total = self.price - self.price * Mobile.__discount / 100\n",
    "        print (self.brand, \"mobile with price\", self.price, \"is available after discount at\", total)\n",
    "\n",
    "    @staticmethod\n",
    "    def enable_discount():\n",
    "        Mobile.set_discount(50)\n",
    "\n",
    "    @staticmethod\n",
    "    def disable_discount():\n",
    "        Mobile.set_discount(0)\n",
    "\n",
    "    @staticmethod\n",
    "    def get_discount():\n",
    "        return Mobile.__discount\n",
    "\n",
    "    @staticmethod\n",
    "    def set_discount(discount):\n",
    "        Mobile.__discount = discount\n",
    "\n",
    "mob1=Mobile(20000, \"Apple\")\n",
    "mob2=Mobile(30000, \"Apple\")\n",
    "mob3=Mobile(5000, \"Samsung\")\n",
    "\n",
    "Mobile.disable_discount()\n",
    "\n",
    "mob1.purchase()\n",
    "\n",
    "Mobile.enable_discount()\n",
    "\n",
    "mob2.purchase()\n",
    "\n",
    "Mobile.disable_discount()\n",
    "\n",
    "mob3.purchase()"
   ]
  },
  {
   "cell_type": "code",
   "execution_count": 31,
   "metadata": {},
   "outputs": [
    {
     "name": "stdout",
     "output_type": "stream",
     "text": [
      "Simba drinks water from the well in the circus\n",
      "Water source of lions: well in the circus\n"
     ]
    }
   ],
   "source": [
    "class Lion:\n",
    "    __water_source=\"well in the circus\"\n",
    "\n",
    "    def __init__(self,name, gender):\n",
    "        self.__name=name\n",
    "        self.__gender=gender\n",
    "\n",
    "    def drinks_water(self):\n",
    "        print(self.__name,\n",
    "        \"drinks water from the\",Lion.__water_source)\n",
    "\n",
    "    @staticmethod\n",
    "    def get_water_source():\n",
    "        return Lion.__water_source\n",
    "\n",
    "simba=Lion(\"Simba\",\"Male\")\n",
    "simba.drinks_water()\n",
    "print( \"Water source of lions:\",Lion.get_water_source())"
   ]
  },
  {
   "cell_type": "code",
   "execution_count": 32,
   "metadata": {},
   "outputs": [
    {
     "name": "stdout",
     "output_type": "stream",
     "text": [
      "3000\n"
     ]
    }
   ],
   "source": [
    "class Example:\n",
    "    num=10\n",
    "    @staticmethod\n",
    "    def add(num1,num2):\n",
    "        result=(num1+num2)*Example.num\n",
    "        return result\n",
    "print(Example.add(100, 200))"
   ]
  },
  {
   "cell_type": "code",
   "execution_count": 33,
   "metadata": {},
   "outputs": [
    {
     "name": "stdout",
     "output_type": "stream",
     "text": [
      "19\n",
      "2\n",
      "19\n",
      "2\n"
     ]
    }
   ],
   "source": [
    "class ClassA:\n",
    "    __var1=20\n",
    "    def __init__(self,var2):\n",
    "        self.__var2 = var2\n",
    "\n",
    "    def method1(self):\n",
    "        self.__var2=self.__var2+1\n",
    "        ClassA.__var1 = ClassA.__var1 -1\n",
    "\n",
    "    def method2(self):\n",
    "        print(ClassA.__var1)\n",
    "        print(self.__var2)\n",
    "obj1=ClassA(1)\n",
    "obj1.method1()\n",
    "obj1.method2()\n",
    "obj2=ClassA(2)\n",
    "obj2.method2()"
   ]
  },
  {
   "cell_type": "code",
   "execution_count": null,
   "metadata": {},
   "outputs": [],
   "source": []
  }
 ],
 "metadata": {
  "kernelspec": {
   "display_name": "Python 3",
   "language": "python",
   "name": "python3"
  },
  "language_info": {
   "codemirror_mode": {
    "name": "ipython",
    "version": 3
   },
   "file_extension": ".py",
   "mimetype": "text/x-python",
   "name": "python",
   "nbconvert_exporter": "python",
   "pygments_lexer": "ipython3",
   "version": "3.6.8"
  }
 },
 "nbformat": 4,
 "nbformat_minor": 4
}
