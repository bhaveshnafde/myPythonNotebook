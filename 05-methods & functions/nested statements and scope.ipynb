{
 "cells": [
  {
   "cell_type": "markdown",
   "metadata": {},
   "source": [
    "# Nested Statements and Scope"
   ]
  },
  {
   "cell_type": "markdown",
   "metadata": {},
   "source": [
    "## Scope\n",
    "### LEGB rule:\n",
    "L - Local : (def,lambda)assignmed within a function and not declared global in that function.<br>\n",
    "E - Enclosing function locals : (def,lambda) names in the local function of any and all enclosing functions.<br>\n",
    "G - Global : (Module) named assigned at the top level of that module file, or declared global within a def in a file.<br>\n",
    "B - Built in : (python) name pre assigned in the built in names module."
   ]
  },
  {
   "cell_type": "markdown",
   "metadata": {},
   "source": [
    "#### L - Local"
   ]
  },
  {
   "cell_type": "code",
   "execution_count": null,
   "metadata": {},
   "outputs": [],
   "source": [
    "lambda num:num**2"
   ]
  },
  {
   "cell_type": "code",
   "execution_count": null,
   "metadata": {},
   "outputs": [],
   "source": [
    "num # name 'num' is not defined"
   ]
  },
  {
   "cell_type": "markdown",
   "metadata": {},
   "source": [
    "#### E - Enclosing function locals \n",
    "enclosing function variable will be given prioriy over global variable"
   ]
  },
  {
   "cell_type": "code",
   "execution_count": 3,
   "metadata": {},
   "outputs": [],
   "source": [
    "name = 'global'\n",
    "def local():\n",
    "    #name='local'\n",
    "    def nestedLocal():\n",
    "        print('variable : '+name)\n",
    "    nestedLocal()"
   ]
  },
  {
   "cell_type": "code",
   "execution_count": 2,
   "metadata": {},
   "outputs": [
    {
     "name": "stdout",
     "output_type": "stream",
     "text": [
      "variable : local\n"
     ]
    }
   ],
   "source": [
    "local() # without name commented inside local"
   ]
  },
  {
   "cell_type": "code",
   "execution_count": 4,
   "metadata": {},
   "outputs": [
    {
     "name": "stdout",
     "output_type": "stream",
     "text": [
      "variable : global\n"
     ]
    }
   ],
   "source": [
    "local() # when commented name inside local"
   ]
  },
  {
   "cell_type": "markdown",
   "metadata": {},
   "source": [
    "#### G - Global\n",
    "use global keyword inside function and dont pass it to function as argument to reassign it globally"
   ]
  },
  {
   "cell_type": "code",
   "execution_count": 8,
   "metadata": {},
   "outputs": [],
   "source": [
    "#without using global keyword this will happen\n",
    "x = 20\n",
    "def func(x):\n",
    "    print(f'X is {x}')\n",
    "    x=40\n",
    "    print(f'locally reassigned X to {x}')"
   ]
  },
  {
   "cell_type": "code",
   "execution_count": 10,
   "metadata": {},
   "outputs": [
    {
     "name": "stdout",
     "output_type": "stream",
     "text": [
      "X is 20\n",
      "locally reassigned X to 40\n",
      "value of x outside function 20\n"
     ]
    }
   ],
   "source": [
    "func(x)\n",
    "print(f'value of x outside function {x}')"
   ]
  },
  {
   "cell_type": "code",
   "execution_count": 11,
   "metadata": {},
   "outputs": [],
   "source": [
    "#using global keyword to refer to global variable\n",
    "x = 20\n",
    "def func():\n",
    "    global x\n",
    "    print(f'X is {x}')\n",
    "    x=40\n",
    "    print(f'locally reassigned X to {x}')"
   ]
  },
  {
   "cell_type": "code",
   "execution_count": 13,
   "metadata": {},
   "outputs": [
    {
     "name": "stdout",
     "output_type": "stream",
     "text": [
      "X is 20\n",
      "locally reassigned X to 40\n",
      "value of x outside the function 40\n"
     ]
    }
   ],
   "source": [
    "func()\n",
    "print(f'value of x outside the function {x}')"
   ]
  },
  {
   "cell_type": "code",
   "execution_count": null,
   "metadata": {},
   "outputs": [],
   "source": []
  }
 ],
 "metadata": {
  "kernelspec": {
   "display_name": "Python 3",
   "language": "python",
   "name": "python3"
  },
  "language_info": {
   "codemirror_mode": {
    "name": "ipython",
    "version": 3
   },
   "file_extension": ".py",
   "mimetype": "text/x-python",
   "name": "python",
   "nbconvert_exporter": "python",
   "pygments_lexer": "ipython3",
   "version": "3.7.4"
  }
 },
 "nbformat": 4,
 "nbformat_minor": 2
}
